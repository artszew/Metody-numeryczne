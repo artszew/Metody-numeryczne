{
 "cells": [
  {
   "cell_type": "markdown",
   "id": "d193d9d9-e71f-46bd-8150-7ec6ed48b60d",
   "metadata": {},
   "source": [
    "# Polecenie\n",
    "Celem zadania drugiego jest zaimplementowanie metody eliminacji Jordana rozwiązywania układu $N$ równań liniowych z $N$ niewiadomymi.\n",
    "\n",
    "- [X] Maksymalna ilość równań może być ograniczona z góry,\n",
    "- [X] ale skonstruowany algorytm ma być uniwersalny,\n",
    "- [X] a użytkownik ma mieć możliwość wyboru ilości równań w trakcie pracy programu.\n",
    "- [X] Należy zapewnić możliwość wygodnego wprowadzania współczynników układu równań poprzez wczytywanie ich z pliku.\n",
    "\n",
    "- [X] Program musi automatycznie wybierać element podstawowy i wykrywać sytuacje, kiedy układ jest sprzeczny albo nieoznaczony.\n",
    "- [X] W sprawozdaniu należy zamieścić informację jak zachowuje się program w przypadku układów sprzecznych i nieoznaczonych.\n",
    "\n",
    "# Program\n",
    "Zdecydowaliśmy się nie ograniczać maksymalnej ilości równań.\n",
    "\n",
    "W naszym programie wykorzystujemy biblioteki `csv` i `numpy`.\n",
    "Poza tym w komórce poniżej widać "
   ]
  },
  {
   "cell_type": "code",
   "execution_count": null,
   "id": "154c25b3-22c5-4f48-86ac-b79781be1a48",
   "metadata": {},
   "outputs": [],
   "source": [
    "# IMPORTS & CONSTANTS\n",
    "import csv\n",
    "import numpy as np; from numpy import array\n",
    "import numpy.testing as npt\n",
    "\n",
    "example_path = \"ex/\"\n",
    "UNSOLVABLE_MSG = \"Układ nie jest rozwiązywalny\"\n",
    "WRONG_MSG = \"Układ jest sprzeczny\"\n",
    "DEBUG = True"
   ]
  },
  {
   "cell_type": "markdown",
   "id": "a1156eb5-99f6-4750-930e-b60ddfae15c7",
   "metadata": {},
   "source": [
    "Do programu równania można ładować plikiem CSV, do czego służy funkcja `read_csv`:"
   ]
  },
  {
   "cell_type": "code",
   "execution_count": null,
   "id": "91f70dc2-b1b5-4888-930c-feb520b2fcce",
   "metadata": {},
   "outputs": [],
   "source": [
    "def read_csv(file_path): \n",
    "    fat = np.genfromtxt(file_path, delimiter=',')\n",
    "    b = array([ row[-1] for row in fat ])\n",
    "    A = np.delete(fat, -1, axis=1)\n",
    "    if A.shape[0] != A.shape[1]: # is not A 1x1?\n",
    "        raise IndexError(\"Podany układ równań nie jest odpowiedni\")\n",
    "    return A, b\n",
    "if DEBUG: read_csv(\"ex/a.csv\")"
   ]
  },
  {
   "cell_type": "markdown",
   "id": "10f07271-527f-47eb-aefb-acd919699b2b",
   "metadata": {},
   "source": [
    "Sercem naszego programu jest funkcja `eliminate`.\n",
    "\n",
    "Rozwiązuje ona układ równań zwracając wektor $x$.\n",
    "Ponadto rozpoznaje układy sprzeczne i nierozwiązywalne i wtedy podnosi błąd, co widać w pierwszym `if`."
   ]
  },
  {
   "cell_type": "code",
   "execution_count": null,
   "id": "beb40b13-3251-4062-a7a4-231f51343766",
   "metadata": {},
   "outputs": [],
   "source": [
    "def eliminate(data):\n",
    "    A = data[0]; b = data[1]; n = len(A)\n",
    "\n",
    "    # Check for exceptions\n",
    "    if np.linalg.det(A) == 0: # Is this thing solvable?\n",
    "        if np.all(np.dot(A, np.linalg.lstsq(A, b, rcond=None)[0]) != b): # rcond to silence the error\n",
    "            raise ValueError(WRONG_MSG) # it's unsolvable because it's wrong (special case)\n",
    "        else: raise ValueError(UNSOLVABLE_MSG) # general unsolvable case\n",
    "    \n",
    "    # Augmenting the matrix and converting to float64\n",
    "    augmented_matrix = np.column_stack((A.astype(float), b.astype(float)))\n",
    "\n",
    "    # Forward Elimination with Partial Pivoting\n",
    "    for pivot_row in range(n):\n",
    "        # Partial pivoting: find the row with the largest absolute value of pivot element\n",
    "        max_row = pivot_row\n",
    "        for row in range(pivot_row + 1, n):\n",
    "            if abs(augmented_matrix[row][pivot_row]) > abs(augmented_matrix[max_row][pivot_row]):\n",
    "                max_row = row\n",
    "        augmented_matrix[[pivot_row, max_row]] = augmented_matrix[[max_row, pivot_row]] # Swap the rows\n",
    "        if augmented_matrix[pivot_row][pivot_row] == 0: # Check if pivot element is zero\n",
    "            raise ValueError(\"Natrafiono na zero pivot podczas częściwego pivotowania\")\n",
    "        \n",
    "        for row in range(pivot_row + 1, n):\n",
    "            factor = augmented_matrix[row][pivot_row] / augmented_matrix[pivot_row][pivot_row]\n",
    "            augmented_matrix[row] -= factor * augmented_matrix[pivot_row]\n",
    "\n",
    "    # Back Substitution\n",
    "    x = np.zeros(n)\n",
    "    for i in range(n - 1, -1, -1):\n",
    "        x[i] = augmented_matrix[i][n] / augmented_matrix[i][i]\n",
    "        for j in range(i - 1, -1, -1): augmented_matrix[j][n] -= augmented_matrix[j][i] * x[i]\n",
    "    return x"
   ]
  },
  {
   "cell_type": "markdown",
   "id": "51a47973-8964-4300-8586-83156b3aca4d",
   "metadata": {},
   "source": [
    "# Testy jednostkowe\n",
    "Jako profesjonaliści piszemy testy jednostkowe.\n",
    "## Testy z dobrymi danymi"
   ]
  },
  {
   "cell_type": "code",
   "execution_count": null,
   "id": "c4e9bf9a-2caf-43fe-80d9-663f50b37d6d",
   "metadata": {},
   "outputs": [],
   "source": [
    "npt.assert_allclose(array([ 1, 2, 3 ]), eliminate(read_csv(example_path + \"a.csv\")),         err_msg=\"Nie działa (a)\")\n",
    "npt.assert_allclose(array([ 2, -3, 1.5, 0.5 ]), eliminate(read_csv(example_path + \"d.csv\")), err_msg=\"Nie działa (d)\")\n",
    "npt.assert_allclose(array([ 1, 3, -4, 5 ]), eliminate(read_csv(example_path + \"f.csv\")),     err_msg=\"Nie działa (f)\")\n",
    "npt.assert_allclose(array([ 1, 2, 3 ]), eliminate(read_csv(example_path + \"h.csv\")),         err_msg=\"Nie działa (h)\")\n",
    "npt.assert_allclose(array([ 1, 1, 1 ]), eliminate(read_csv(example_path + \"j.csv\")),         err_msg=\"Nie działa (j)\")"
   ]
  },
  {
   "cell_type": "markdown",
   "id": "486bfb0c-3ff5-4e23-907f-c3fe24396ac4",
   "metadata": {},
   "source": [
    "### Przypadek specjalny -- zera"
   ]
  },
  {
   "cell_type": "code",
   "execution_count": null,
   "id": "e9c33819-5ad8-4f71-a490-dd5f3ee48056",
   "metadata": {},
   "outputs": [],
   "source": [
    "npt.assert_allclose(array([ 7, 5, 3 ]), eliminate(read_csv(example_path + \"g.csv\")), err_msg=\"Nie działa z zerami (g)\")"
   ]
  },
  {
   "cell_type": "markdown",
   "id": "ff41f2ca-a7bf-4a27-bb67-2bc5fb7fd48e",
   "metadata": {},
   "source": [
    "## Testy ze złymi danymi\n",
    "Układy nierozwiązywalne w naszym programie są rozpoznawane jako układy sprzeczne bądź ogólnie nierozwiązywalne.\n",
    "\n",
    "Te drugie w przykładach są reprezentowane przez układy nieoznaczone."
   ]
  },
  {
   "cell_type": "code",
   "execution_count": null,
   "id": "9e015c7f-a322-4996-b2d7-8c1141d2fdcf",
   "metadata": {},
   "outputs": [],
   "source": [
    "## 3. Testy sprzecznych\n",
    "try:\n",
    "    eliminate(read_csv(example_path + \"c.csv\"))\n",
    "    eliminate(read_csv(example_path + \"e.csv\"))\n",
    "except ValueError as e:\n",
    "    assert str(e) == WRONG_MSG"
   ]
  },
  {
   "cell_type": "code",
   "execution_count": null,
   "id": "7722c3f9-c52d-4fde-a2f6-c32163922248",
   "metadata": {},
   "outputs": [],
   "source": [
    "## 4. Testy nieoznaczonych\n",
    "try:\n",
    "    eliminate(read_csv(example_path + \"b.csv\"))\n",
    "    eliminate(read_csv(example_path + \"i.csv\"))\n",
    "except ValueError as e:\n",
    "    assert str(e) == WRONG_MSG or str(e) == UNSOLVABLE_MSG"
   ]
  },
  {
   "cell_type": "markdown",
   "id": "131bafa8-5745-462e-829e-b3dbfcf3bd60",
   "metadata": {},
   "source": [
    "## Przykładowy błąd\n",
    "Specjalnie na potrzeby sprawozdania pokazujemy jeden z błędów:"
   ]
  },
  {
   "cell_type": "code",
   "execution_count": null,
   "id": "ec686539-f9cc-48f6-a781-786670e86f21",
   "metadata": {},
   "outputs": [],
   "source": [
    "zly = (array([[1,1,1],\n",
    "             [1,1,2],\n",
    "             [1,1,3]]),\n",
    "      array([1,1,1]))\n",
    "eliminate(zly)"
   ]
  }
 ],
 "metadata": {
  "kernelspec": {
   "display_name": "Python 3 (ipykernel)",
   "language": "python",
   "name": "python3"
  },
  "language_info": {
   "codemirror_mode": {
    "name": "ipython",
    "version": 3
   },
   "file_extension": ".py",
   "mimetype": "text/x-python",
   "name": "python",
   "nbconvert_exporter": "python",
   "pygments_lexer": "ipython3",
   "version": "3.11.8"
  }
 },
 "nbformat": 4,
 "nbformat_minor": 5
}
