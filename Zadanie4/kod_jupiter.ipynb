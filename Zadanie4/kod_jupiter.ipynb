{
 "cells": [
  {
   "cell_type": "markdown",
   "id": "9f79313e-73d1-46ed-9585-7713013ecfd5",
   "metadata": {},
   "source": [
    "# Polecenie\n",
    "Celem zadania czwartego jest stworzenie programu implementującego dwie metody całkowania numerycznego:\n",
    "\n",
    "1. złożoną kwadraturę Newtona-Cotesa opartą na trzech węzłach (wzór Simpsona)\n",
    "2. wariant kwadratury Gaussa: całkowanie na przedziale $[a,b)$ (wielomiany Legendre'a) całek postaci  $\\int_a^b f(x)dx$\n",
    "\n",
    "- [X] Kwadratury złożone Newtona-Cotesa obliczane są z dokładnością podaną przez użytkownika.\n",
    "- [X] Odbywa się to w sposób iteracyjny.\n",
    "- [X] W każdej iteracji ilość podprzedziałów na które podzielony jest przedział całkowania jest zwiększana,\n",
    "      <!-- można zwiększać dwukrotnie lub o jeden --> a otrzymany wynik całkowania porównywany jest z wynikiem z  poprzedniej iteracji.\n",
    "- [X] Jeśli wynik zmienił się o mniej niż dokładność podana przez użytkownika, oznacza to że dokładność całki na podanym przedziale została obliczona z zadaną dokładnością.\n",
    "\n",
    "\n",
    "Przy obliczaniu całki na przedziale $[0,+∞)$ stosuje się następujące podejście:\n",
    "\n",
    "1. obliczenie całki na przedziale $[0,a)$, gdzie $a>0$,\n",
    "2. obliczanie całki na przedziale $[a,a+δ)$, gdzie $δ>0$.\n",
    "   - Jeśli wartość całki na tym przedziale jest większa od zakładanej dokładności, to otrzymany wynik dodawany jest do wcześniejszego wyniku,\n",
    "     - przyjmuje się $a:=a+δ$, po czym operacja jest powtarzana.\n",
    "   - Jeśli nie uznaje się, że policzyło się granicę dążącą do $+∞$.\n",
    "   - Analogicznie postępuje się obliczając wartość całki na przedziale $(−∞,0]$.\n",
    "W przypadku obliczania granicy dążącej do $±1$ postępuje się w sposób podobny,\n",
    "przy czym najpierw liczy się wartość całki na przedziale $[0,0.5)$,\n",
    "potem dolicza się wartość na przedziale $[0.5,0.5+0.5 \\cdot 0.5)$,\n",
    "następnie na przedziale $[0.75,0.75+0.25 \\cdot 0.5)$ i tak dalej.\n",
    "\n",
    "\n",
    "- [X] Kwadratury Gaussa obliczane są dla 2, 3, 4 i 5 węzłów.\n",
    "- [X] konieczne jest przeskalowanie funkcji i granic całkowania na przedział $[-1,1)$.\n",
    "\n",
    "- [X] W sprawozdaniu należy porównać wyniki uzyskane za pomocą obu metod całkowania.\n",
    "- [X] Należy pamiętać, że funkcje całkowane są postaci $w(x) \\cdot f(x)$, gdzie $w(x)$ to funkcja wagowa, przy czym w kwadraturach Gaussa funkcja wagowa jest od razu uwzględniona w metodzie.\n",
    "- [X] Przy obliczaniu kwadratur Newtona-Cotesa trzeba więc dodać funkcję wagową.\n",
    "# Program\n",
    "## Importy i stałe\n",
    "Stanardowo wykorzystaliśmy biblioteki `math` i `numpy`, oraz stworzoną przez nas wcześniej funkcję `hornerThis`:"
   ]
  },
  {
   "cell_type": "code",
   "execution_count": null,
   "id": "d613d23f-dabd-4c6f-a79f-3fa1efe6d37f",
   "metadata": {},
   "outputs": [],
   "source": [
    "import math; from math import sin, cos\n",
    "import numpy as np\n",
    "\n",
    "INTERACTIVE = False\n",
    "\n",
    "def hornerThis(x, coefs):\n",
    "    rval = 0\n",
    "    for i in coefs: rval = rval*x + coefs[i]\n",
    "    return rval"
   ]
  },
  {
   "cell_type": "markdown",
   "id": "9ef333a5-29a1-4eef-b31c-84dc943a3211",
   "metadata": {},
   "source": [
    "do wyboru mamy następujące funkcje:\n",
    "1. $x+1$\n",
    "2. $\\cos(x) - \\sin(x)$\n",
    "3. $-x^2 + x -1$\n",
    "4. $|x-5|$\n",
    "5. $\\frac{\\cos(x)}{x}$"
   ]
  },
  {
   "cell_type": "code",
   "execution_count": null,
   "id": "96bb3698-72fb-42ed-9296-dc2daffc2bb7",
   "metadata": {},
   "outputs": [],
   "source": [
    "def fun(func_i, x):\n",
    "    match func_i:\n",
    "        case 1: return x + 1\n",
    "        case 2: return cos(x) - sin(x)\n",
    "        case 3: return hornerThis(x, (-3, 2, -1))\n",
    "        case 4: return math.fabs(x - 5)\n",
    "        case 5: return cos(x) /x"
   ]
  },
  {
   "cell_type": "code",
   "execution_count": null,
   "id": "3186f014-d75e-47a5-a0d1-e243d79f4329",
   "metadata": {},
   "outputs": [],
   "source": [
    "def simpThis(func_i, a, b, eps):\n",
    "    subinterval = 1\n",
    "    length_all = b - a\n",
    "    result = 0\n",
    "    result_previous = eps +1\n",
    "\n",
    "    while abs(result - result_previous) > eps:\n",
    "        subinterval *= 2\n",
    "        length_sub = length_all / subinterval\n",
    "        result_previous = result\n",
    "        result = 0\n",
    "\n",
    "        x = np.linspace(a, b, subinterval + 1)\n",
    "\n",
    "        for i in range(0, math.floor(subinterval/2)):\n",
    "            result +=   fun(func_i, x[2*i])\n",
    "            result += 4*fun(func_i, x[2*i+1])\n",
    "            result +=   fun(func_i, x[2*i+2])\n",
    "\n",
    "        result *= length_sub / 3\n",
    "    return result"
   ]
  },
  {
   "cell_type": "code",
   "execution_count": null,
   "id": "e28cd01e-13c4-418e-9b13-a9726e704a9b",
   "metadata": {},
   "outputs": [],
   "source": [
    "def glThis(func_i, l_edg, r_edg, nodes): # Gauss Legendre\n",
    "    coefficients = {\n",
    "        1: (),\n",
    "        2: ((-0.5773502691896257, 1), (0.5773502691896257, 1)),\n",
    "        3: ((-0.7745966692414834, 0.5555555555555556), (0, 0.8888888888888888),\n",
    "            (0.7745966692414834, 0.5555555555555556)),\n",
    "        4: ((-0.8611363115940526, 0.3478548451374538), (-0.33998104358485626, 0.6521451548625461),\n",
    "            (0.33998104358485626, 0.6521451548625461), (0.8611363115940526, 0.3478548451374538)),\n",
    "        5: ((-0.906179845938664, 0.23692688505618908), (-0.5384693101056831, 0.47862867049936647),\n",
    "            (0, 0.5688888888888889),\n",
    "            (0.5384693101056831, 0.47862867049936647), (0.906179845938664, 0.23692688505618908))\n",
    "    }\n",
    "\n",
    "    integral = 0\n",
    "    for i in range(nodes):\n",
    "        xi, wi = coefficients[nodes][i]\n",
    "        xi_mapped = ((r_edg - l_edg) * xi + (l_edg + r_edg)) / 2\n",
    "        integral += wi * fun(func_i, xi_mapped)\n",
    "\n",
    "    integral *= (r_edg - l_edg) / 2\n",
    "\n",
    "    return integral"
   ]
  },
  {
   "cell_type": "code",
   "execution_count": null,
   "id": "3d77c0a3-8262-4b2e-bcc8-c319374a091b",
   "metadata": {},
   "outputs": [],
   "source": [
    "def last_function(func_i, l_edg, r_edg, eps=0.01, node_c=6, VERBOSE=True, TALKBACK=True):\n",
    "    if TALKBACK: \n",
    "        print(f\"Wyniki dla funkcji {func_i} na przedziale od {l_edg} do {r_edg} z dokładnością {eps}:\")\n",
    "    simp = simpThis(func_i, l_edg, r_edg, eps)\n",
    "    if VERBOSE: print(f\"Simpson: \\t\\t {simp}\")\n",
    "    gl = []\n",
    "    for i in range(2, node_c):\n",
    "        gl_part = glThis(func_i, l_edg, r_edg, i)\n",
    "        gl.append(gl_part)\n",
    "        if VERBOSE: print(f\"Gauss-Legrendge ({i}): \\t {gl_part}\")\n",
    "        else: return simp, gl"
   ]
  },
  {
   "cell_type": "markdown",
   "id": "01bc58d8-df52-40b7-95b4-39212c5c219a",
   "metadata": {},
   "source": [
    "# Badania"
   ]
  },
  {
   "cell_type": "code",
   "execution_count": null,
   "id": "3d4072b6-ea46-42b9-876f-1bb504d588fd",
   "metadata": {},
   "outputs": [],
   "source": [
    "last_function(1,0,5)"
   ]
  },
  {
   "cell_type": "code",
   "execution_count": null,
   "id": "bae957cb-e95f-4da4-8675-ea056e837d3c",
   "metadata": {},
   "outputs": [],
   "source": [
    "last_function(2,0,2*math.pi)"
   ]
  },
  {
   "cell_type": "code",
   "execution_count": null,
   "id": "564a31ce-63c0-4a19-a537-b73f188a7b5a",
   "metadata": {},
   "outputs": [],
   "source": [
    "last_function(3,0,5)"
   ]
  },
  {
   "cell_type": "code",
   "execution_count": null,
   "id": "f6db08b7-12c1-4c86-9324-5870527b7765",
   "metadata": {},
   "outputs": [],
   "source": [
    "last_function(4,0,10)"
   ]
  },
  {
   "cell_type": "code",
   "execution_count": null,
   "id": "5e9962bb-a90f-4eb0-9dea-a2a57718b2cd",
   "metadata": {},
   "outputs": [],
   "source": [
    "last_function(5, 2*math.pi, 4*math.pi)"
   ]
  },
  {
   "cell_type": "markdown",
   "id": "3c0b5c8e-74d8-48a8-98eb-d9d61f9b9a2a",
   "metadata": {},
   "source": [
    "# Część interaktywna\n",
    "Specyfikacja zadania nakazuje więc my dowozimy."
   ]
  },
  {
   "cell_type": "code",
   "execution_count": null,
   "id": "08267e00-b832-424c-bf88-fee2af834593",
   "metadata": {},
   "outputs": [],
   "source": [
    "def printChoices():\n",
    "    print(\"Dostępne funkcje:\")\n",
    "    print(\"1. x + 1\")\n",
    "    print(\"2. cos(x) - sin(x)\")\n",
    "    print(\"3. -x^2 + x - 1\")\n",
    "    print(\"4. |x - 5|\")\n",
    "    print(\"5. cos(x) / x\")\n",
    "def queryDetails():\n",
    "    func_i = int(input(\"Wybierz numer funkcji\"))\n",
    "    l_edg = float(input(\"Podaj początek przedziału: \"))\n",
    "    r_edg = float(input(\"Podaj koniec przedziału: \"))\n",
    "    acc =   float(input(\"Podaj dokładność: \"))\n",
    "    return func_i, l_edg, r_edg, acc\n",
    "\n",
    "if INTERACTIVE:\n",
    "    printChoices()\n",
    "    func_i, l_edg, r_edg, acc = queryDetails\n",
    "    last_function(func_i, l_edg, r_edg, acc)"
   ]
  },
  {
   "cell_type": "markdown",
   "id": "03c7a075-e75e-4f9a-af70-587973806284",
   "metadata": {},
   "source": [
    "# Wnioski\n",
    "Metoda simpsona przynosi dokładniejsze wyniki, podczas gdy metoda Gaussa-Legandre'a zwiększa swoją dokładność wraz ze zwiększeniem liczby węzłów.\n",
    "\n",
    "Ponadto, można zauważyć niedoskonałości systemu zapisu `float` (IEEE 754)."
   ]
  }
 ],
 "metadata": {
  "kernelspec": {
   "display_name": "Python 3 (ipykernel)",
   "language": "python",
   "name": "python3"
  },
  "language_info": {
   "codemirror_mode": {
    "name": "ipython",
    "version": 3
   },
   "file_extension": ".py",
   "mimetype": "text/x-python",
   "name": "python",
   "nbconvert_exporter": "python",
   "pygments_lexer": "ipython3",
   "version": "3.12.3"
  }
 },
 "nbformat": 4,
 "nbformat_minor": 5
}
